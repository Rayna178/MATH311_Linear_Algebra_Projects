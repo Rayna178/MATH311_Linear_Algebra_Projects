{
  "nbformat": 4,
  "nbformat_minor": 0,
  "metadata": {
    "colab": {
      "provenance": [],
      "include_colab_link": true
    },
    "kernelspec": {
      "name": "python3",
      "display_name": "Python 3"
    }
  },
  "cells": [
    {
      "cell_type": "markdown",
      "metadata": {
        "id": "view-in-github",
        "colab_type": "text"
      },
      "source": [
        "<a href=\"https://colab.research.google.com/github/Rayna178/MATH311_Linear_Algebra_Projects/blob/main/Copy_of_Sports_Teams_Rankings.ipynb\" target=\"_parent\"><img src=\"https://colab.research.google.com/assets/colab-badge.svg\" alt=\"Open In Colab\"/></a>"
      ]
    },
    {
      "cell_type": "markdown",
      "metadata": {
        "id": "TwGBRAD9R6W4"
      },
      "source": [
        "# Load the preliminary code"
      ]
    },
    {
      "cell_type": "code",
      "metadata": {
        "id": "NaP8xyCfRrUg"
      },
      "source": [
        "import matplotlib.pyplot as plt\n",
        "from sympy import Poly\n",
        "import sympy as sym\n",
        "import numpy as np\n",
        "from numpy import c_\n",
        "\n",
        "# We'll specify that x and t are variables:\n",
        "x, t = sym.symbols('x, t')\n",
        "\n",
        "ll = \"loaded\""
      ],
      "execution_count": 1,
      "outputs": []
    },
    {
      "cell_type": "code",
      "metadata": {
        "id": "CANB9fuMRyBP",
        "colab": {
          "base_uri": "https://localhost:8080/"
        },
        "outputId": "d4e0f4ee-2eae-460a-c6ca-c466e37a6d84"
      },
      "source": [
        "lll = \" correctly!\"\n",
        "\n",
        "def rref(matrix):\n",
        "    A = np.array(matrix, dtype=np.float64)\n",
        "\n",
        "    r = 0 #row\n",
        "    c = 0 #column\n",
        "\n",
        "    (maxr, maxc) = A.shape\n",
        "\n",
        "    prev_row_pivot = -1   # The previous row with a leading term:\n",
        "    tmp_pivot_row = -1\n",
        "    this_pivot_row = -1\n",
        "\n",
        "    for c in range(maxc):  # go through each column\n",
        "      tmp_pivot_row = -1  # reset the tmp pivot row\n",
        "      this_pivot_row = -1  # reset this pivot row\n",
        "      for r in range(maxr):  # Find the leading term in this column below prev_row_pivot\n",
        "        if ((r > prev_row_pivot) and (A[r][c] != 0.0)):\n",
        "          tmp_pivot_row = r  # find the new pivot row\n",
        "      if (tmp_pivot_row > -1):  # we found a candidate for the leading term:\n",
        "        #swap row this_pivot_row with (prev_row_pivot + 1)\n",
        "        A[[tmp_pivot_row, prev_row_pivot+1]] = A[[prev_row_pivot + 1, tmp_pivot_row]]\n",
        "        #set this_pivot_row to prev_row_pivot+1\n",
        "        this_pivot_row = prev_row_pivot + 1\n",
        "        #Now, normalize the row based on the pivot value:\n",
        "        A[ this_pivot_row ] = A[ this_pivot_row ] / A[ this_pivot_row ][c]\n",
        "        #Then, use this row to force 0's above and below the pivot entry:\n",
        "        #subtract multiples of of the this_pivot_row row from the others\n",
        "        for r_ in range(len(A)):\n",
        "            if r_ != this_pivot_row:\n",
        "                A[r_] = A[r_] - A[this_pivot_row] * A[r_][c] / A[this_pivot_row][c]\n",
        "        prev_row_pivot = this_pivot_row\n",
        "    return A\n",
        "\n",
        "\n",
        "def is_singular(matrix):\n",
        "  singular = True\n",
        "  notsingular = False\n",
        "\n",
        "  (mr, mc) = matrix.shape\n",
        "\n",
        "  return_value = notsingular\n",
        "  if (mc - np.linalg.linalg.matrix_rank(matrix) > 0) :\n",
        "    return_value = singular\n",
        "  return return_value\n",
        "\n",
        "\n",
        "\n",
        "\n",
        "print(\">> The page \", ll, lll)"
      ],
      "execution_count": 2,
      "outputs": [
        {
          "output_type": "stream",
          "name": "stdout",
          "text": [
            ">> The page  loaded  correctly!\n"
          ]
        }
      ]
    },
    {
      "cell_type": "markdown",
      "metadata": {
        "id": "dCB31bhvTulU"
      },
      "source": [
        "# Ranking Teams based on games\n",
        "\n",
        "From our packet, we saw there were five games:\n",
        "\n",
        "Home  | Away\n",
        "------|------\n",
        "Winona State 16 | Sioux Falls 15\n",
        "Winona State 34 | Augustana 20\n",
        "Sioux Falls 51  | Augustana 13\n",
        "Duluth 28       |  Augustana 17\n",
        "Winona State 17 | Duluth 37\n",
        "\n",
        "Let's encode this system into a matrix.\n",
        "\n",
        "The unknown rankings are $r_w, r_s, r_a, r_d$.\n",
        "\n",
        "The system looks like $M \\vec{x} = \\vec{b}$, or\n",
        "\n",
        "$$\n",
        "\\left( \\begin{array}{cccc} 1 & -1 & 0 & 0 \\\\ 1 & 0 & -1 & 0 \\\\ 0 & 1 & -1 & 0 \\\\ 0 & 0 & -1 & 1 \\\\ -1 & 0  & 0 & 1 \\\\ \\end{array} \\right) \\, \\left( \\begin{array}{c} r_w \\\\ r_s \\\\ r_a \\\\ r_d \\\\ \\end{array} \\right) = \\left( \\begin{array}{c} 1 \\\\ 14 \\\\ 38 \\\\ 11 \\\\ 20 \\\\ \\end{array} \\right)$$\n",
        "\n",
        "We'll solve this system using least squares\n",
        "$$M^T I M \\vec{x} = M^T I \\vec{b} $$\n",
        "\n",
        "$$ \\vec{x} = \\left( M^T I M  \\right)^{-1} M^T I \\vec{b} $$\n",
        "\n",
        "\n",
        "\n",
        "\n"
      ]
    },
    {
      "cell_type": "code",
      "metadata": {
        "id": "zZOH_e5mViMs",
        "colab": {
          "base_uri": "https://localhost:8080/"
        },
        "outputId": "eaf71048-13c7-4754-d9db-cd9280041931"
      },
      "source": [
        "# create the matrix:\n",
        "M = np.matrix([[1, -1, 0, 0],\n",
        "               [1, 0, -1, 0],\n",
        "               [0, 1, -1, 0],\n",
        "               [0, 0, -1, 1],\n",
        "               [-1, 0, 0, 1]])\n",
        "\n",
        "\n",
        "# create the vector for the right hand side:\n",
        "pts = np.matrix([[1], [14], [38], [11], [20]])\n",
        "\n",
        "#Make sure the system looks appropriate:\n",
        "print(np.c_[M,pts])"
      ],
      "execution_count": 3,
      "outputs": [
        {
          "output_type": "stream",
          "name": "stdout",
          "text": [
            "[[ 1 -1  0  0  1]\n",
            " [ 1  0 -1  0 14]\n",
            " [ 0  1 -1  0 38]\n",
            " [ 0  0 -1  1 11]\n",
            " [-1  0  0  1 20]]\n"
          ]
        }
      ]
    },
    {
      "cell_type": "code",
      "metadata": {
        "id": "s_r-ljCGWB18",
        "colab": {
          "base_uri": "https://localhost:8080/"
        },
        "outputId": "5ec8c800-84ac-41c6-b03c-7b61299bc069"
      },
      "source": [
        "# Generate the transpose of M:\n",
        "MT = M.transpose()\n",
        "\n",
        "print(\"The Transpose of M is:\")\n",
        "print(MT)\n",
        "\n",
        "# and find MT*M and MT*pts:\n",
        "print(\"\\n\")\n",
        "print(\"MT * M is: \")\n",
        "MTM = MT * M\n",
        "print(MTM)\n",
        "\n",
        "print(\"\\n\")\n",
        "print(\"MT * pts is:\")\n",
        "MTpts = MT * pts\n",
        "print(MTpts)\n"
      ],
      "execution_count": 4,
      "outputs": [
        {
          "output_type": "stream",
          "name": "stdout",
          "text": [
            "The Transpose of M is:\n",
            "[[ 1  1  0  0 -1]\n",
            " [-1  0  1  0  0]\n",
            " [ 0 -1 -1 -1  0]\n",
            " [ 0  0  0  1  1]]\n",
            "\n",
            "\n",
            "MT * M is: \n",
            "[[ 3 -1 -1 -1]\n",
            " [-1  2 -1  0]\n",
            " [-1 -1  3 -1]\n",
            " [-1  0 -1  2]]\n",
            "\n",
            "\n",
            "MT * pts is:\n",
            "[[ -5]\n",
            " [ 37]\n",
            " [-63]\n",
            " [ 31]]\n"
          ]
        }
      ]
    },
    {
      "cell_type": "markdown",
      "metadata": {
        "id": "x38H0uPwbhpF"
      },
      "source": [
        "If $M^T M$ has an inverse, then we can use it.  But, if $M^T M$ is singular, then it doesn't have an inverse.  In this situation, we need to replace every entry in one row (say the bottom row) of $M^T M$ and $M^T \\vec{pts}$ with 1's.  (This knocks the system out of *not* having an inverse, so it will now have an inverse.)"
      ]
    },
    {
      "cell_type": "code",
      "metadata": {
        "id": "1ebWW4rZaopa",
        "colab": {
          "base_uri": "https://localhost:8080/"
        },
        "outputId": "befead1c-db1d-43f7-bf89-2fe766cb1e64"
      },
      "source": [
        "#  Check if MTM is singular\n",
        "is_singular(MT*M)"
      ],
      "execution_count": 5,
      "outputs": [
        {
          "output_type": "execute_result",
          "data": {
            "text/plain": [
              "True"
            ]
          },
          "metadata": {},
          "execution_count": 5
        }
      ]
    },
    {
      "cell_type": "code",
      "metadata": {
        "id": "Hs_ZR78AbziT",
        "colab": {
          "base_uri": "https://localhost:8080/"
        },
        "outputId": "55bbf3d7-6818-437c-e95e-e4708651b79d"
      },
      "source": [
        "# If MTM is singular, then adjust one row of MTM and MT pts to be just 1's:\n",
        "\n",
        "#MTM[3] is the entire 4th row of MTM,\n",
        "#so MTM[3] = 1 will put 1's in MTM's 4th row.\n",
        "\n",
        "MTM[3] = 1\n",
        "MTpts[3] = 1\n",
        "\n",
        "print(\"MTM is now: \")\n",
        "print(MTM)\n",
        "\n",
        "print(\"and MTpts is now:\")\n",
        "print(MTpts)\n",
        "\n",
        "print(\"Is our modified MTM singular?\")\n",
        "is_singular(MTM)"
      ],
      "execution_count": 6,
      "outputs": [
        {
          "output_type": "stream",
          "name": "stdout",
          "text": [
            "MTM is now: \n",
            "[[ 3 -1 -1 -1]\n",
            " [-1  2 -1  0]\n",
            " [-1 -1  3 -1]\n",
            " [ 1  1  1  1]]\n",
            "and MTpts is now:\n",
            "[[ -5]\n",
            " [ 37]\n",
            " [-63]\n",
            " [  1]]\n",
            "Is our modified MTM singular?\n"
          ]
        },
        {
          "output_type": "execute_result",
          "data": {
            "text/plain": [
              "False"
            ]
          },
          "metadata": {},
          "execution_count": 6
        }
      ]
    },
    {
      "cell_type": "code",
      "metadata": {
        "id": "48WK4ZH7WRxH",
        "colab": {
          "base_uri": "https://localhost:8080/"
        },
        "outputId": "6d1ed36d-b749-4cad-f3a2-0be16091b525"
      },
      "source": [
        "#Find our solution using the inverse of MTM:\n",
        "\n",
        "#First, find the inverse of MTM:\n",
        "MTMI = np.linalg.inv(MTM)\n",
        "\n",
        "print(\"The inverse of MTM is:\")\n",
        "print(MTMI)\n",
        "\n",
        "#Now, use the inverse of MTM to solve for the rankings:\n",
        "\n",
        "print(\"\\n\")\n",
        "print(\"The solution are rankings:\")\n",
        "MTMI * MTpts"
      ],
      "execution_count": 7,
      "outputs": [
        {
          "output_type": "stream",
          "name": "stdout",
          "text": [
            "The inverse of MTM is:\n",
            "[[ 2.50000000e-01  0.00000000e+00  1.85037171e-17  2.50000000e-01]\n",
            " [ 1.25000000e-01  5.00000000e-01  1.25000000e-01  2.50000000e-01]\n",
            " [ 0.00000000e+00  0.00000000e+00  2.50000000e-01  2.50000000e-01]\n",
            " [-3.75000000e-01 -5.00000000e-01 -3.75000000e-01  2.50000000e-01]]\n",
            "\n",
            "\n",
            "The solution are rankings:\n"
          ]
        },
        {
          "output_type": "execute_result",
          "data": {
            "text/plain": [
              "matrix([[ -1.  ],\n",
              "        [ 10.25],\n",
              "        [-15.5 ],\n",
              "        [  7.25]])"
            ]
          },
          "metadata": {},
          "execution_count": 7
        }
      ]
    },
    {
      "cell_type": "markdown",
      "metadata": {
        "id": "YOTdLT4-R-1h"
      },
      "source": [
        "#  Game Data  - Fall Sports\n",
        "\n",
        "Find the game data for the four teams in the NFC North and NFC South.\n",
        "\n",
        "The teams are:\n",
        "\n",
        "* **NFC North:**  Green Bay Packers, Chicago Bears, Detroit Lions, Minnesota Vikings\n",
        "* **NFC South:**  Atlanta Falcons, Carolina Panthers, New Orleans Saints, Tampa Bay Buccaneers\n",
        "\n",
        "\n",
        "It may be helpful to do a google search to find the data.\n",
        "\n",
        "Be sure to create your matrix on the handout, then enter the data for the system below.\n",
        "\n",
        "# Game Data - Spring Sports\n",
        "\n",
        "Find the game data for the seven teams in the Western Division for Men's Big Ten Basketball.\n",
        "\n",
        "**The teams:**  Wisconsin, Minnesota, Iowa, Illinois, Nebraska, Purdue, and Northewstern.\n",
        "\n",
        "I've provided **most** of the data, but you have to do a Google search to find the scores for the last two teams.\n",
        "\n",
        "Be sure to create your matrix on the handout, then enter the data for the system below.\n"
      ]
    },
    {
      "cell_type": "code",
      "metadata": {
        "id": "RrMkbXIC5v_X",
        "colab": {
          "base_uri": "https://localhost:8080/"
        },
        "outputId": "bfbd64c1-b78d-43e7-a3e2-a2cd343b7268"
      },
      "source": [
        "# create the matrix:\n",
        "M = np.matrix([[1, 0, 0, -1, 0, 0, 0],\n",
        "               [-1, 0, 0, 0, 0, 1, 0],\n",
        "               [-1, 0, 0, 0, 1, 0, 0],\n",
        "               [1, 0, 0, -1, 0, 0, 0],\n",
        "               [1, -1, 0, 0, 0, 0, 0],\n",
        "               [1, 0, -1, 0, 0, 0, 0],\n",
        "               [1, 0, 0, 0, 0, 0, -1],\n",
        "               [-1, 0, 0, 0, 0, 1, 0],\n",
        "               [1, -1, 0, 0, 0, 0, 0],\n",
        "               [0, -1, 0, 0, 0, 1, 0],\n",
        "               [0, -1, 0, 0, 0, 0, 1],\n",
        "               [0, 1, 0, -1, 0, 0, 0],\n",
        "               [0, 1, -1, 0, 0, 0, 0],\n",
        "               [0, -1, 0, 0, 0, 1, 0],\n",
        "               [0, 1, -1, 0, 0, 0, 0],\n",
        "               [0, 1, 0, 0, 0, 0, -1],\n",
        "               [0, 1, 0, 0, -1, 0, 0],\n",
        "               [0, 0, 1, -1, 0, 0, 0],\n",
        "               [0, 0, -1, 0, 0, 0, 1],\n",
        "               [0, 0, 1, 0, -1, 0, 0],\n",
        "               [0, 0, -1, 0, 0, 1, 0],\n",
        "               [0, 0, -1, 1, 0, 0, 0],\n",
        "               [0, 0, -1, 0, 1, 0, 0],\n",
        "               [0, 0, 0, -1, 0, 0, 1],\n",
        "               [0, 0, 0, 1, 0, -1, 0],\n",
        "               [0, 0, 0, 1, -1, 0, 0],\n",
        "               [0, 0, 0, 1, 0, 0, -1],\n",
        "               [0, 0, 0, -1, 1, 0, 0],\n",
        "               [0, 0, 0, 0, 1, -1, 0],\n",
        "               [0, 0, 0, 0, -1, 0, 1],\n",
        "               [0, 0, 0, 0, -1, 1, 0],\n",
        "               [0, 0, 0, 0, 0, 1, -1],\n",
        "               [0, 0, 0, 0, 0, 1, -1]])\n",
        "\n",
        "\n",
        "# create the vector for the right hand side:\n",
        "pts = np.matrix([[30], [5], [5], [3], [10], [8], [8], [6], [12], [19],\n",
        " [11], [18], [9], [14], [5], [2], [7], [11], [2], [9], [8], [18], [24], [16],\n",
        "  [16], [6], [8], [12], [4], [8], [9], [6], [8]])\n",
        "\n",
        "#Make sure the system looks appropriate:\n",
        "print(np.c_[M,pts])"
      ],
      "execution_count": 11,
      "outputs": [
        {
          "output_type": "stream",
          "name": "stdout",
          "text": [
            "[[ 1  0  0 -1  0  0  0 30]\n",
            " [-1  0  0  0  0  1  0  5]\n",
            " [-1  0  0  0  1  0  0  5]\n",
            " [ 1  0  0 -1  0  0  0  3]\n",
            " [ 1 -1  0  0  0  0  0 10]\n",
            " [ 1  0 -1  0  0  0  0  8]\n",
            " [ 1  0  0  0  0  0 -1  8]\n",
            " [-1  0  0  0  0  1  0  6]\n",
            " [ 1 -1  0  0  0  0  0 12]\n",
            " [ 0 -1  0  0  0  1  0 19]\n",
            " [ 0 -1  0  0  0  0  1 11]\n",
            " [ 0  1  0 -1  0  0  0 18]\n",
            " [ 0  1 -1  0  0  0  0  9]\n",
            " [ 0 -1  0  0  0  1  0 14]\n",
            " [ 0  1 -1  0  0  0  0  5]\n",
            " [ 0  1  0  0  0  0 -1  2]\n",
            " [ 0  1  0  0 -1  0  0  7]\n",
            " [ 0  0  1 -1  0  0  0 11]\n",
            " [ 0  0 -1  0  0  0  1  2]\n",
            " [ 0  0  1  0 -1  0  0  9]\n",
            " [ 0  0 -1  0  0  1  0  8]\n",
            " [ 0  0 -1  1  0  0  0 18]\n",
            " [ 0  0 -1  0  1  0  0 24]\n",
            " [ 0  0  0 -1  0  0  1 16]\n",
            " [ 0  0  0  1  0 -1  0 16]\n",
            " [ 0  0  0  1 -1  0  0  6]\n",
            " [ 0  0  0  1  0  0 -1  8]\n",
            " [ 0  0  0 -1  1  0  0 12]\n",
            " [ 0  0  0  0  1 -1  0  4]\n",
            " [ 0  0  0  0 -1  0  1  8]\n",
            " [ 0  0  0  0 -1  1  0  9]\n",
            " [ 0  0  0  0  0  1 -1  6]\n",
            " [ 0  0  0  0  0  1 -1  8]]\n"
          ]
        }
      ]
    },
    {
      "cell_type": "code",
      "metadata": {
        "id": "TLLB3Ebe587M",
        "colab": {
          "base_uri": "https://localhost:8080/"
        },
        "outputId": "2cdf48a9-6d45-4880-8d0f-ab7e4ed1d985"
      },
      "source": [
        "# Generate the transpose of M:\n",
        "MT = M.transpose()\n",
        "\n",
        "print(\"The Transpose of M is:\")\n",
        "print(MT)\n",
        "\n",
        "# and find MT*M and MT*pts:\n",
        "print(\"\\n\")\n",
        "print(\"MT * M is: \")\n",
        "MTM = MT * M\n",
        "print(MTM)\n",
        "\n",
        "print(\"\\n\")\n",
        "print(\"MT * pts is:\")\n",
        "MTpts = MT * pts\n",
        "print(MTpts)\n"
      ],
      "execution_count": 16,
      "outputs": [
        {
          "output_type": "stream",
          "name": "stdout",
          "text": [
            "The Transpose of M is:\n",
            "[[ 1 -1 -1  1  1  1  1 -1  1  0  0  0  0  0  0  0  0  0  0  0  0  0  0  0\n",
            "   0  0  0  0  0  0  0  0  0]\n",
            " [ 0  0  0  0 -1  0  0  0 -1 -1 -1  1  1 -1  1  1  1  0  0  0  0  0  0  0\n",
            "   0  0  0  0  0  0  0  0  0]\n",
            " [ 0  0  0  0  0 -1  0  0  0  0  0  0 -1  0 -1  0  0  1 -1  1 -1 -1 -1  0\n",
            "   0  0  0  0  0  0  0  0  0]\n",
            " [-1  0  0 -1  0  0  0  0  0  0  0 -1  0  0  0  0  0 -1  0  0  0  1  0 -1\n",
            "   1  1  1 -1  0  0  0  0  0]\n",
            " [ 0  0  1  0  0  0  0  0  0  0  0  0  0  0  0  0 -1  0  0 -1  0  0  1  0\n",
            "   0 -1  0  1  1 -1 -1  0  0]\n",
            " [ 0  1  0  0  0  0  0  1  0  1  0  0  0  1  0  0  0  0  0  0  1  0  0  0\n",
            "  -1  0  0  0 -1  0  1  1  1]\n",
            " [ 0  0  0  0  0  0 -1  0  0  0  1  0  0  0  0 -1  0  0  1  0  0  0  0  1\n",
            "   0  0 -1  0  0  1  0 -1 -1]]\n",
            "\n",
            "\n",
            "MT * M is: \n",
            "[[ 9 -2 -1 -2 -1 -2 -1]\n",
            " [-2 10 -2 -1 -1 -2 -2]\n",
            " [-1 -2  9 -2 -2 -1 -1]\n",
            " [-2 -1 -2 10 -2 -1 -2]\n",
            " [-1 -1 -2 -2  9 -2 -1]\n",
            " [-2 -2 -1 -1 -2 10 -2]\n",
            " [-1 -2 -1 -2 -1 -2  9]]\n",
            "\n",
            "\n",
            "MT * pts is:\n",
            "[[ 55]\n",
            " [-25]\n",
            " [-54]\n",
            " [-42]\n",
            " [  6]\n",
            " [ 55]\n",
            " [  5]]\n"
          ]
        }
      ]
    },
    {
      "cell_type": "code",
      "metadata": {
        "id": "VXqKSDj06BVa",
        "colab": {
          "base_uri": "https://localhost:8080/"
        },
        "outputId": "02ed580c-f80c-48ca-97fd-66b4b9171202"
      },
      "source": [
        "#  Check if MTM is singular\n",
        "is_singular(MT*M)"
      ],
      "execution_count": 17,
      "outputs": [
        {
          "output_type": "execute_result",
          "data": {
            "text/plain": [
              "True"
            ]
          },
          "metadata": {},
          "execution_count": 17
        }
      ]
    },
    {
      "cell_type": "code",
      "metadata": {
        "id": "5E2eXRT76MQh",
        "colab": {
          "base_uri": "https://localhost:8080/"
        },
        "outputId": "2975fc29-9788-4fe8-f1c0-42b317e98f43"
      },
      "source": [
        "# Careful - you might not need to do this!\n",
        "# Be sure to check whether MTM is singular on the previous line.\n",
        "\n",
        "# If MTM is singular, then adjust one row of MTM and MT pts to be just 1's:\n",
        "\n",
        "#MTM[3] is the entire 4th row of MTM,\n",
        "#so MTM[3] = 1 will put 1's in MTM's 4th row.\n",
        "\n",
        "MTM[3] = 1\n",
        "MTpts[3] = 1\n",
        "\n",
        "print(\"MTM is now: \")\n",
        "print(MTM)\n",
        "\n",
        "print(\"and MTpts is now:\")\n",
        "print(MTpts)\n",
        "\n",
        "print(\"Is our modified MTM singular?\")\n",
        "is_singular(MTM)"
      ],
      "execution_count": 18,
      "outputs": [
        {
          "output_type": "stream",
          "name": "stdout",
          "text": [
            "MTM is now: \n",
            "[[ 9 -2 -1 -2 -1 -2 -1]\n",
            " [-2 10 -2 -1 -1 -2 -2]\n",
            " [-1 -2  9 -2 -2 -1 -1]\n",
            " [ 1  1  1  1  1  1  1]\n",
            " [-1 -1 -2 -2  9 -2 -1]\n",
            " [-2 -2 -1 -1 -2 10 -2]\n",
            " [-1 -2 -1 -2 -1 -2  9]]\n",
            "and MTpts is now:\n",
            "[[ 55]\n",
            " [-25]\n",
            " [-54]\n",
            " [  1]\n",
            " [  6]\n",
            " [ 55]\n",
            " [  5]]\n",
            "Is our modified MTM singular?\n"
          ]
        },
        {
          "output_type": "execute_result",
          "data": {
            "text/plain": [
              "False"
            ]
          },
          "metadata": {},
          "execution_count": 18
        }
      ]
    },
    {
      "cell_type": "code",
      "metadata": {
        "id": "UkDKmNba6YHi",
        "colab": {
          "base_uri": "https://localhost:8080/"
        },
        "outputId": "4362bb25-1242-4e40-9e8b-1ea104fd603a"
      },
      "source": [
        "#Find our solution using the inverse of MTM:\n",
        "\n",
        "#First, find the inverse of MTM:\n",
        "MTMI = np.linalg.inv(MTM)\n",
        "\n",
        "print(\"The inverse of MTM is:\")\n",
        "print(MTMI)\n",
        "\n",
        "#Now, use the inverse of MTM to solve for the rankings:\n",
        "\n",
        "print(\"\\n\")\n",
        "print(\"The solution are rankings:\")\n",
        "MTMI * MTpts"
      ],
      "execution_count": 19,
      "outputs": [
        {
          "output_type": "stream",
          "name": "stdout",
          "text": [
            "The inverse of MTM is:\n",
            "[[ 0.09309006  0.0007764  -0.00776398  0.14285714 -0.00776398  0.0007764\n",
            "  -0.00690994]\n",
            " [ 0.00776398  0.09167417  0.00692238  0.14285714 -0.0007112   0.00770471\n",
            "   0.00776398]\n",
            " [-0.00854037 -0.00084159  0.09238538  0.14285714  0.00078232 -0.00847518\n",
            "  -0.00854037]\n",
            " [-0.08462733 -0.09161491 -0.08385093  0.14285714 -0.08385093 -0.09161491\n",
            "  -0.08462733]\n",
            " [-0.00854037 -0.00847518  0.00078232  0.14285714  0.09238538 -0.00084159\n",
            "  -0.00854037]\n",
            " [ 0.00776398  0.00770471 -0.0007112   0.14285714  0.00692238  0.09167417\n",
            "   0.00776398]\n",
            " [-0.00690994  0.0007764  -0.00776398  0.14285714 -0.00776398  0.0007764\n",
            "   0.09309006]]\n",
            "\n",
            "\n",
            "The solution are rankings:\n"
          ]
        },
        {
          "output_type": "execute_result",
          "data": {
            "text/plain": [
              "matrix([[ 5.6242236 ],\n",
              "        [-1.6374757 ],\n",
              "        [-5.79877673],\n",
              "        [-3.65838509],\n",
              "        [ 0.3080935 ],\n",
              "        [ 5.53809682],\n",
              "        [ 0.6242236 ]])"
            ]
          },
          "metadata": {},
          "execution_count": 19
        }
      ]
    }
  ]
}