{
  "nbformat": 4,
  "nbformat_minor": 0,
  "metadata": {
    "colab": {
      "provenance": [],
      "authorship_tag": "ABX9TyM5aDmTsawX+cmNUrcJH9sh",
      "include_colab_link": true
    },
    "kernelspec": {
      "name": "python3",
      "display_name": "Python 3"
    },
    "language_info": {
      "name": "python"
    }
  },
  "cells": [
    {
      "cell_type": "markdown",
      "metadata": {
        "id": "view-in-github",
        "colab_type": "text"
      },
      "source": [
        "<a href=\"https://colab.research.google.com/github/Rayna178/MATH311_Linear_Algebra_Projects/blob/main/Gram_Schmidt_Orthonormalization_Process.ipynb\" target=\"_parent\"><img src=\"https://colab.research.google.com/assets/colab-badge.svg\" alt=\"Open In Colab\"/></a>"
      ]
    },
    {
      "cell_type": "code",
      "execution_count": 5,
      "metadata": {
        "id": "DYfBjFfi00LE"
      },
      "outputs": [],
      "source": [
        "import matplotlib.pyplot as plt\n",
        "from sympy import Poly\n",
        "import sympy as sym\n",
        "import numpy as np\n",
        "from numpy import c_\n",
        "\n",
        "# We'll specify that x and t are variables:\n",
        "x, t = sym.symbols('x, t')\n",
        "\n",
        "ll = \"loaded\""
      ]
    },
    {
      "cell_type": "code",
      "source": [
        "zz = np.matrix('1; 2; 3; 4')\n",
        "zz"
      ],
      "metadata": {
        "colab": {
          "base_uri": "https://localhost:8080/"
        },
        "id": "2ZueJUpf1_ZP",
        "outputId": "f48e8e48-551e-4214-e994-073fe08b3130"
      },
      "execution_count": 9,
      "outputs": [
        {
          "output_type": "execute_result",
          "data": {
            "text/plain": [
              "matrix([[1],\n",
              "        [2],\n",
              "        [3],\n",
              "        [4]])"
            ]
          },
          "metadata": {},
          "execution_count": 9
        }
      ]
    },
    {
      "cell_type": "code",
      "source": [
        "5*zz"
      ],
      "metadata": {
        "colab": {
          "base_uri": "https://localhost:8080/"
        },
        "id": "63z2B3nK2SIU",
        "outputId": "0d16a74a-937c-4c24-83ef-711e45e646ad"
      },
      "execution_count": 10,
      "outputs": [
        {
          "output_type": "execute_result",
          "data": {
            "text/plain": [
              "matrix([[ 5],\n",
              "        [10],\n",
              "        [15],\n",
              "        [20]])"
            ]
          },
          "metadata": {},
          "execution_count": 10
        }
      ]
    },
    {
      "cell_type": "code",
      "source": [
        "yy = np.array([1, 2, 3, 4])\n",
        "yy"
      ],
      "metadata": {
        "colab": {
          "base_uri": "https://localhost:8080/"
        },
        "id": "i4Ne9UDR21K6",
        "outputId": "aa79d3cb-dd6e-4870-c4e7-7a05e23a1657"
      },
      "execution_count": 20,
      "outputs": [
        {
          "output_type": "execute_result",
          "data": {
            "text/plain": [
              "array([1, 2, 3, 4])"
            ]
          },
          "metadata": {},
          "execution_count": 20
        }
      ]
    },
    {
      "cell_type": "code",
      "source": [
        "yy.dot(yy)"
      ],
      "metadata": {
        "colab": {
          "base_uri": "https://localhost:8080/"
        },
        "id": "oRq7h6jn3eLT",
        "outputId": "ea55b89b-e1df-4c5b-85a8-5d331a6a4779"
      },
      "execution_count": 21,
      "outputs": [
        {
          "output_type": "execute_result",
          "data": {
            "text/plain": [
              "30"
            ]
          },
          "metadata": {},
          "execution_count": 21
        }
      ]
    },
    {
      "cell_type": "code",
      "source": [
        "np.sqrt(9)"
      ],
      "metadata": {
        "colab": {
          "base_uri": "https://localhost:8080/"
        },
        "id": "_vUx1ND24gQq",
        "outputId": "90d4e6c5-2a76-44e8-f642-e0755c589459"
      },
      "execution_count": 23,
      "outputs": [
        {
          "output_type": "execute_result",
          "data": {
            "text/plain": [
              "3.0"
            ]
          },
          "metadata": {},
          "execution_count": 23
        }
      ]
    },
    {
      "cell_type": "markdown",
      "source": [
        "# Gram-Schmidt Process:\n",
        "\n",
        "1. Start with random vecotrs: r1, r2, r3, r4.\n",
        "\n",
        "2. Process them in orfer, generating: u1, u2, u3, u4.\n",
        "\n",
        "After eashc step, we'll check that out nice vectors area:\n",
        "* orthogonal to previous nice vectors\n",
        "* have a magnitude 1."
      ],
      "metadata": {
        "id": "Xk_s-HJP5Bg4"
      }
    },
    {
      "cell_type": "code",
      "source": [
        "# These are the \"random vectors\":\n",
        "\n",
        "r1 = np.array([3, 0, 3, 0])\n",
        "print (\"r1 is\", r1)\n",
        "\n",
        "r2 = np.array([3, 2, 3, 3])\n",
        "print (\"r2 is\", r2)\n",
        "\n",
        "r3 = np.array([-7, -4, -5, -6])\n",
        "print (\"r3 is\", r3)\n",
        "\n",
        "r4 = np.array([-7, -3, -11, 2])\n",
        "print (\"r4 is\", r4)\n"
      ],
      "metadata": {
        "colab": {
          "base_uri": "https://localhost:8080/"
        },
        "id": "2uMziIrS4pMu",
        "outputId": "6af39781-cce7-47f1-8252-58274f0fe14b"
      },
      "execution_count": 25,
      "outputs": [
        {
          "output_type": "stream",
          "name": "stdout",
          "text": [
            "r1 is [3 0 3 0]\n",
            "r2 is [3 2 3 3]\n",
            "r3 is [-7 -4 -5 -6]\n",
            "r4 is [ -7  -3 -11   2]\n"
          ]
        }
      ]
    },
    {
      "cell_type": "code",
      "source": [
        "# Processing the vectors:\n",
        "# Slect a random vecotr, and subract the nice pieces.\n",
        "# t = r- __u1 - __u2 - __u3...\n",
        "# Where the __ are the dot products pf r with the ui\n",
        "# Then we'll find the magnitude of t:\n",
        "# If |t| is not 0, we create u = (1/|t|)*t\n",
        "# Sanity checks"
      ],
      "metadata": {
        "id": "bWJWvcek6aXs"
      },
      "execution_count": null,
      "outputs": []
    },
    {
      "cell_type": "code",
      "source": [
        "#Process 1:\n",
        "t1 = r1\n",
        "print (\"t1 is\", t1)\n",
        "\n",
        "# magnitude\n",
        "n1 = np.sqrt(t1.dot(t1))\n",
        "print(\"The size of t1 is\",n1)\n",
        "\n",
        "#Create u1:\n",
        "\n",
        "u1 = (1/n1)*t1\n",
        "print(\"u1 is\", u1)"
      ],
      "metadata": {
        "colab": {
          "base_uri": "https://localhost:8080/"
        },
        "id": "C_nujhfw7E_8",
        "outputId": "ff4880b2-6474-468f-b1fa-c776088ee110"
      },
      "execution_count": 35,
      "outputs": [
        {
          "output_type": "stream",
          "name": "stdout",
          "text": [
            "t1 is [3 0 3 0]\n",
            "The size of t1 is 4.242640687119285\n",
            "u1 is [0.70710678 0.         0.70710678 0.        ]\n"
          ]
        }
      ]
    },
    {
      "cell_type": "code",
      "source": [
        "#Sanity Check:\n",
        "print(\"the size of u1 is\", np.sqrt(u1.dot(u1)))"
      ],
      "metadata": {
        "colab": {
          "base_uri": "https://localhost:8080/"
        },
        "id": "RAi2d4Ti9G-l",
        "outputId": "d2b180ee-86ac-4a7d-94ce-65dfb92b69ac"
      },
      "execution_count": 28,
      "outputs": [
        {
          "output_type": "stream",
          "name": "stdout",
          "text": [
            "the size of u1 is 1.0\n"
          ]
        }
      ]
    },
    {
      "cell_type": "code",
      "source": [
        "#Process 1:\n",
        "t2 = r2 - r2.dot(u1) * u1\n",
        "print (\"t2 is\", t2)\n",
        "\n",
        "# magnitude\n",
        "n2 = np.sqrt(t2.dot(t2))\n",
        "print(\"The size of t2 is\",n2)\n",
        "\n",
        "#Create u2:\n",
        "\n",
        "u2 = (1/n2)*t2\n",
        "print(\"u2 is\", u2)"
      ],
      "metadata": {
        "colab": {
          "base_uri": "https://localhost:8080/"
        },
        "id": "tsst8Bk-7vBT",
        "outputId": "0f152420-7706-4100-b5ed-94f4e637c20a"
      },
      "execution_count": 34,
      "outputs": [
        {
          "output_type": "stream",
          "name": "stdout",
          "text": [
            "t2 is [-4.4408921e-16  2.0000000e+00 -4.4408921e-16  3.0000000e+00]\n",
            "The size of t2 is 3.605551275463989\n",
            "u2 is [-1.23168186e-16  5.54700196e-01 -1.23168186e-16  8.32050294e-01]\n"
          ]
        }
      ]
    },
    {
      "cell_type": "code",
      "source": [
        "# Sanity Check\n",
        "print(\"the size of u2 is\", np.sqrt(u2.dot(u2)))\n",
        "print (\"the dot product of u1 and u2 is\", u1.dot(u2))"
      ],
      "metadata": {
        "colab": {
          "base_uri": "https://localhost:8080/"
        },
        "id": "S9A8R0ia-HXA",
        "outputId": "5a7ad3b4-c1e7-4c10-96ef-822fca8a8bb3"
      },
      "execution_count": 37,
      "outputs": [
        {
          "output_type": "stream",
          "name": "stdout",
          "text": [
            "the size of u2 is 1.0\n",
            "the dot product of u1 and u2 is -1.741861189847285e-16\n"
          ]
        }
      ]
    }
  ]
}